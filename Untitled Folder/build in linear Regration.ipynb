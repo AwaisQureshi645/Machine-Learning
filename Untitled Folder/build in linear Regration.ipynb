{
 "cells": [
  {
   "cell_type": "code",
   "execution_count": 1,
   "id": "0105ea91",
   "metadata": {},
   "outputs": [],
   "source": [
    "\n",
    "import numpy as np\n",
    "import matplotlib.pyplot as plt\n",
    "from sklearn.linear_model import LinearRegression\n",
    "from sklearn.metrics import accuracy_score"
   ]
  },
  {
   "cell_type": "code",
   "execution_count": 2,
   "id": "a1c6beac",
   "metadata": {},
   "outputs": [
    {
     "name": "stdout",
     "output_type": "stream",
     "text": [
      "Hours Studied: [2 3 4 5 6 7]\n",
      "Final Exam Score: [60 70 80 85 90 95]\n"
     ]
    }
   ],
   "source": [
    "x = np.array([2,3,4,5,6,7])\n",
    "y = np.array([60,70,80,85,90,95])\n",
    "\n",
    "print(f\"Hours Studied: {x}\\nFinal Exam Score: {y}\")"
   ]
  },
  {
   "cell_type": "code",
   "execution_count": 4,
   "id": "6d8b9477",
   "metadata": {},
   "outputs": [
    {
     "name": "stdout",
     "output_type": "stream",
     "text": [
      "Hours Studied: [[2]\n",
      " [3]\n",
      " [4]\n",
      " [5]\n",
      " [6]\n",
      " [7]]\n",
      "Final Exam Score: [[60]\n",
      " [70]\n",
      " [80]\n",
      " [85]\n",
      " [90]\n",
      " [95]]\n"
     ]
    }
   ],
   "source": [
    "x = np.array([2,3,4,5,6,7]).reshape(-1,1)\n",
    "y = np.array([60,70,80,85,90,95]).reshape(-1,1)\n",
    "print(f\"Hours Studied: {x}\\nFinal Exam Score: {y}\")"
   ]
  },
  {
   "cell_type": "code",
   "execution_count": 6,
   "id": "1c51d696",
   "metadata": {},
   "outputs": [
    {
     "data": {
      "text/plain": [
       "LinearRegression()"
      ]
     },
     "execution_count": 6,
     "metadata": {},
     "output_type": "execute_result"
    }
   ],
   "source": [
    "linearModel=LinearRegression()\n",
    "linearModel.fit(x,y)"
   ]
  },
  {
   "cell_type": "code",
   "execution_count": 7,
   "id": "07d465a2",
   "metadata": {},
   "outputs": [
    {
     "data": {
      "text/plain": [
       "array([[ 5.4],\n",
       "       [ 5. ],\n",
       "       [ 4. ],\n",
       "       [ 3. ],\n",
       "       [ 5. ],\n",
       "       [ 6. ],\n",
       "       [10. ]])"
      ]
     },
     "execution_count": 7,
     "metadata": {},
     "output_type": "execute_result"
    }
   ],
   "source": [
    "test=np.array([5.4,5,4,3,5,6,10]).reshape(-1,1)\n",
    "test"
   ]
  },
  {
   "cell_type": "code",
   "execution_count": 9,
   "id": "33cfbdb6",
   "metadata": {},
   "outputs": [
    {
     "data": {
      "text/plain": [
       "array([[ 86.17142857],\n",
       "       [ 83.42857143],\n",
       "       [ 76.57142857],\n",
       "       [ 69.71428571],\n",
       "       [ 83.42857143],\n",
       "       [ 90.28571429],\n",
       "       [117.71428571]])"
      ]
     },
     "execution_count": 9,
     "metadata": {},
     "output_type": "execute_result"
    }
   ],
   "source": [
    "yPred=linearModel.predict(test)\n",
    "yPred"
   ]
  },
  {
   "cell_type": "code",
   "execution_count": 10,
   "id": "1dc14b72",
   "metadata": {},
   "outputs": [
    {
     "data": {
      "text/plain": [
       "0.9680672268907563"
      ]
     },
     "execution_count": 10,
     "metadata": {},
     "output_type": "execute_result"
    }
   ],
   "source": [
    "linearModel.score(x,y)"
   ]
  },
  {
   "cell_type": "code",
   "execution_count": 11,
   "id": "c2ae9ca6",
   "metadata": {},
   "outputs": [
    {
     "data": {
      "text/plain": [
       "1.0"
      ]
     },
     "execution_count": 11,
     "metadata": {},
     "output_type": "execute_result"
    }
   ],
   "source": [
    "linearModel.score(test,yPred)"
   ]
  }
 ],
 "metadata": {
  "kernelspec": {
   "display_name": "Python 3 (ipykernel)",
   "language": "python",
   "name": "python3"
  },
  "language_info": {
   "codemirror_mode": {
    "name": "ipython",
    "version": 3
   },
   "file_extension": ".py",
   "mimetype": "text/x-python",
   "name": "python",
   "nbconvert_exporter": "python",
   "pygments_lexer": "ipython3",
   "version": "3.9.13"
  }
 },
 "nbformat": 4,
 "nbformat_minor": 5
}
