{
 "cells": [
  {
   "cell_type": "code",
   "execution_count": 1,
   "id": "e42106bb",
   "metadata": {},
   "outputs": [
    {
     "name": "stdout",
     "output_type": "stream",
     "text": [
      "  Age\\theight\\tweight \\tPremium\n",
      "0         25\\t162.56\\t70\\t18000\n",
      "1         30\\t172.72\\t95\\t38000\n",
      "2         35\\t167.64\\t78\\t38000\n",
      "3              40\\t\\t110\\t60000\n",
      "4         45\\t157.48\\t85\\t70000\n"
     ]
    }
   ],
   "source": [
    "import pandas as pd\n",
    "\n",
    "df=pd.read_csv(\"Insurance.csv\")\n",
    "print(df)"
   ]
  }
 ],
 "metadata": {
  "kernelspec": {
   "display_name": "Python 3 (ipykernel)",
   "language": "python",
   "name": "python3"
  },
  "language_info": {
   "codemirror_mode": {
    "name": "ipython",
    "version": 3
   },
   "file_extension": ".py",
   "mimetype": "text/x-python",
   "name": "python",
   "nbconvert_exporter": "python",
   "pygments_lexer": "ipython3",
   "version": "3.9.13"
  }
 },
 "nbformat": 4,
 "nbformat_minor": 5
}
