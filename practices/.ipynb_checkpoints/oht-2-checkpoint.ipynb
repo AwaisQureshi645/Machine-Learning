{
 "cells": [
  {
   "cell_type": "code",
   "execution_count": 35,
   "id": "52d90aa9",
   "metadata": {},
   "outputs": [],
   "source": [
    "import pandas as pd\n",
    "import matplotlib.pyplot as plt\n",
    "import seaborn as sns\n",
    "from sklearn import linear_model\n",
    "import numpy as np\n",
    "from sklearn.impute import SimpleImputer"
   ]
  },
  {
   "cell_type": "code",
   "execution_count": 36,
   "id": "3494a8eb",
   "metadata": {},
   "outputs": [],
   "source": [
    "x = np.array([1, 2, 3, 4, 5, 6, 7, 8, 9, 10, 11]).reshape(-1, 1)\n",
    "y = np.array([40000, 50000, 60000, 70000, 65000, 75000, np.nan, 90000, np.nan, np.nan,100000]).reshape(-1, 1)\n"
   ]
  },
  {
   "cell_type": "code",
   "execution_count": 37,
   "id": "6cbfbff6",
   "metadata": {},
   "outputs": [],
   "source": [
    "imputer = SimpleImputer(strategy='mean')"
   ]
  },
  {
   "cell_type": "code",
   "execution_count": 28,
   "id": "0a263b89",
   "metadata": {},
   "outputs": [],
   "source": [
    "model = linear_model.LinearRegression()"
   ]
  },
  {
   "cell_type": "code",
   "execution_count": 38,
   "id": "08d7ec28",
   "metadata": {},
   "outputs": [],
   "source": [
    "y_imputed = imputer.fit_transform(y)"
   ]
  },
  {
   "cell_type": "code",
   "execution_count": 39,
   "id": "70e2e58e",
   "metadata": {},
   "outputs": [
    {
     "data": {
      "text/plain": [
       "LinearRegression()"
      ]
     },
     "execution_count": 39,
     "metadata": {},
     "output_type": "execute_result"
    }
   ],
   "source": [
    "model.fit(x, y_imputed)"
   ]
  },
  {
   "cell_type": "code",
   "execution_count": 42,
   "id": "50a847b2",
   "metadata": {},
   "outputs": [],
   "source": [
    "x_missing = x[np.isnan(y)].reshape(-1, 1)  # Reshape the array\n",
    "\n",
    "y_pred = model.predict(x_missing)"
   ]
  },
  {
   "cell_type": "code",
   "execution_count": 46,
   "id": "a3af622b",
   "metadata": {},
   "outputs": [],
   "source": [
    "\n",
    "# Predict the missing values\n",
    "missing_indices = np.isnan(y).flatten()\n",
    "y_pred = model.predict(x[missing_indices].reshape(-1, 1))"
   ]
  },
  {
   "cell_type": "code",
   "execution_count": 47,
   "id": "dd3f1890",
   "metadata": {},
   "outputs": [
    {
     "name": "stdout",
     "output_type": "stream",
     "text": [
      "[[ 40000.        ]\n",
      " [ 50000.        ]\n",
      " [ 60000.        ]\n",
      " [ 70000.        ]\n",
      " [ 65000.        ]\n",
      " [ 75000.        ]\n",
      " [ 72795.45454545]\n",
      " [ 90000.        ]\n",
      " [ 80886.36363636]\n",
      " [ 84931.81818182]\n",
      " [100000.        ]]\n"
     ]
    }
   ],
   "source": [
    "y[missing_indices] = y_pred.reshape(-1, 1)\n",
    "\n",
    "print(y)"
   ]
  },
  {
   "cell_type": "code",
   "execution_count": 48,
   "id": "ddfb552e",
   "metadata": {},
   "outputs": [
    {
     "data": {
      "text/plain": [
       "array([[2.94535180e+08],\n",
       "       [3.27266585e+08],\n",
       "       [3.43632287e+08]])"
      ]
     },
     "execution_count": 48,
     "metadata": {},
     "output_type": "execute_result"
    }
   ],
   "source": [
    "yPred = model.predict(y[missing_indices])\n",
    "yPred"
   ]
  },
  {
   "cell_type": "code",
   "execution_count": 49,
   "id": "4909e96d",
   "metadata": {},
   "outputs": [
    {
     "data": {
      "text/plain": [
       "0.8331813702296321"
      ]
     },
     "execution_count": 49,
     "metadata": {},
     "output_type": "execute_result"
    }
   ],
   "source": [
    "model.score(x,y)"
   ]
  },
  {
   "cell_type": "code",
   "execution_count": 51,
   "id": "a12ef170",
   "metadata": {},
   "outputs": [
    {
     "data": {
      "text/plain": [
       "1.0"
      ]
     },
     "execution_count": 51,
     "metadata": {},
     "output_type": "execute_result"
    }
   ],
   "source": [
    "model.score(y[missing_indices],yPred)"
   ]
  }
 ],
 "metadata": {
  "kernelspec": {
   "display_name": "Python 3 (ipykernel)",
   "language": "python",
   "name": "python3"
  },
  "language_info": {
   "codemirror_mode": {
    "name": "ipython",
    "version": 3
   },
   "file_extension": ".py",
   "mimetype": "text/x-python",
   "name": "python",
   "nbconvert_exporter": "python",
   "pygments_lexer": "ipython3",
   "version": "3.9.13"
  }
 },
 "nbformat": 4,
 "nbformat_minor": 5
}
