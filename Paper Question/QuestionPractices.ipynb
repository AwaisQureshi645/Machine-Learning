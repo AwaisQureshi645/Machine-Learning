{
 "cells": [
  {
   "cell_type": "code",
   "execution_count": 13,
   "id": "b1d89393",
   "metadata": {},
   "outputs": [],
   "source": [
    "import numpy as np\n",
    "import matplotlib.pyplot as plt\n",
    "from sklearn.linear_model import LinearRegression\n",
    "from sklearn.preprocessing import PolynomialFeatures\n",
    "from sklearn.metrics import mean_squared_error\n",
    "from sklearn.metrics import r2_score"
   ]
  },
  {
   "cell_type": "code",
   "execution_count": 14,
   "id": "91004e2d",
   "metadata": {},
   "outputs": [
    {
     "name": "stdout",
     "output_type": "stream",
     "text": [
      "[[1]\n",
      " [2]\n",
      " [3]\n",
      " [4]\n",
      " [5]\n",
      " [6]\n",
      " [8]\n",
      " [9]]\n",
      "[ 4000  5000  6000  7000  8000 10000 18000 25000]\n"
     ]
    }
   ],
   "source": [
    "x=np.array([[1],[2],[3],[4],[5],[6],[8],[9]])\n",
    "y=np.array([4000, 5000, 6000, 7000, 8000, 10000, 18000, 25000])\n",
    "print(f\"{x}\")\n",
    "print(f\"{y}\")"
   ]
  },
  {
   "cell_type": "code",
   "execution_count": 24,
   "id": "bd45abb2",
   "metadata": {},
   "outputs": [
    {
     "name": "stdout",
     "output_type": "stream",
     "text": [
      "[[  1.   1.   1.   1.]\n",
      " [  1.   2.   4.   8.]\n",
      " [  1.   3.   9.  27.]\n",
      " [  1.   4.  16.  64.]\n",
      " [  1.   5.  25. 125.]\n",
      " [  1.   6.  36. 216.]\n",
      " [  1.   8.  64. 512.]\n",
      " [  1.   9.  81. 729.]]\n"
     ]
    }
   ],
   "source": [
    "degree=3\n",
    "poly_feature=PolynomialFeatures(degree=degree)\n",
    "x_train_poly=poly_feature.fit_transform(x)\n",
    "print(x_train_poly)"
   ]
  },
  {
   "cell_type": "code",
   "execution_count": 17,
   "id": "c1d9810e",
   "metadata": {},
   "outputs": [],
   "source": [
    "model=LinearRegression()"
   ]
  },
  {
   "cell_type": "code",
   "execution_count": 18,
   "id": "dcdfebed",
   "metadata": {},
   "outputs": [
    {
     "data": {
      "text/plain": [
       "LinearRegression()"
      ]
     },
     "execution_count": 18,
     "metadata": {},
     "output_type": "execute_result"
    }
   ],
   "source": [
    "model.fit(x_train_poly,y)"
   ]
  },
  {
   "cell_type": "code",
   "execution_count": 21,
   "id": "2096a874",
   "metadata": {},
   "outputs": [
    {
     "name": "stdout",
     "output_type": "stream",
     "text": [
      "[[ 7]\n",
      " [ 9]\n",
      " [10]]\n"
     ]
    }
   ],
   "source": [
    "test=np.array([[7],[9],[10]])\n",
    "print(test)"
   ]
  },
  {
   "cell_type": "code",
   "execution_count": 25,
   "id": "a5692ffc",
   "metadata": {},
   "outputs": [],
   "source": [
    "x_test_poly=poly_feature.transform(test)"
   ]
  },
  {
   "cell_type": "code",
   "execution_count": 26,
   "id": "026fcea7",
   "metadata": {},
   "outputs": [],
   "source": [
    "y_predication=model.predict(x_test_poly)\n",
    "# y_pred = model.predict(X_test_poly)"
   ]
  },
  {
   "cell_type": "code",
   "execution_count": 30,
   "id": "fc9864e2",
   "metadata": {},
   "outputs": [
    {
     "data": {
      "text/plain": [
       "<matplotlib.legend.Legend at 0x2d5448392b0>"
      ]
     },
     "execution_count": 30,
     "metadata": {},
     "output_type": "execute_result"
    },
    {
     "data": {
      "image/png": "[encoded data removed]",
      "text/plain": [
       "<Figure size 640x480 with 1 Axes>"
      ]
     },
     "metadata": {},
     "output_type": "display_data"
    }
   ],
   "source": [
    "plt.scatter(x,y,color=\"black\",label=\"Actual Price\")\n",
    "plt.scatter(test,y_predication, color=\"red\", label=\"Predication Price\")\n",
    "plt.legend()"
   ]
  },
  {
   "cell_type": "code",
   "execution_count": 37,
   "id": "990592d5",
   "metadata": {},
   "outputs": [],
   "source": [
    "mse=mean_squared_error(y,model.predict(x_train_poly))\n",
    "rmse=np.sqrt(mse)\n",
    "r2=r2_score(y,model.predict(x_train_poly))\n"
   ]
  },
  {
   "cell_type": "code",
   "execution_count": 38,
   "id": "7b56c780",
   "metadata": {},
   "outputs": [
    {
     "name": "stdout",
     "output_type": "stream",
     "text": [
      "Salary for pay scale 7: 13228.473019517818\n",
      "Salary for pay scale 9: 24954.980343040042\n",
      "Salary for pay scale 10: 34298.69881362415\n"
     ]
    }
   ],
   "source": [
    "for i in range(len(test)):\n",
    "     print(f\"Salary for pay scale {test[i][0]}: {y_predication[i]}\")"
   ]
  },
  {
   "cell_type": "code",
   "execution_count": 39,
   "id": "fc880810",
   "metadata": {},
   "outputs": [
    {
     "name": "stdout",
     "output_type": "stream",
     "text": [
      "R-squared Score: 0.9997870413045612\n"
     ]
    }
   ],
   "source": [
    "print(\"R-squared Score:\", r2)"
   ]
  }
 ],
 "metadata": {
  "kernelspec": {
   "display_name": "Python 3 (ipykernel)",
   "language": "python",
   "name": "python3"
  },
  "language_info": {
   "codemirror_mode": {
    "name": "ipython",
    "version": 3
   },
   "file_extension": ".py",
   "mimetype": "text/x-python",
   "name": "python",
   "nbconvert_exporter": "python",
   "pygments_lexer": "ipython3",
   "version": "3.9.13"
  }
 },
 "nbformat": 4,
 "nbformat_minor": 5
}
